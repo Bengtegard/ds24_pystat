{
 "cells": [
  {
   "cell_type": "markdown",
   "id": "dacf74e6",
   "metadata": {},
   "source": [
    "# NumPy"
   ]
  },
  {
   "cell_type": "markdown",
   "id": "01b2bf34",
   "metadata": {},
   "source": [
    "Read the links: https://numpy.org/doc/stable/user/quickstart.html  and https://numpy.org/doc/stable/user/basics.broadcasting.html  before solving the exercises. "
   ]
  },
  {
   "cell_type": "code",
   "execution_count": 1,
   "id": "1f79e4a6",
   "metadata": {},
   "outputs": [],
   "source": [
    "import numpy as np"
   ]
  },
  {
   "cell_type": "markdown",
   "id": "7dae6889",
   "metadata": {},
   "source": [
    "### Print out the dimension (number of axes), shape, size and the datatype of the matrix A."
   ]
  },
  {
   "cell_type": "code",
   "execution_count": 2,
   "id": "7b3678cd",
   "metadata": {},
   "outputs": [],
   "source": [
    "A = np.arange(1, 16).reshape(3, 5)"
   ]
  },
  {
   "cell_type": "code",
   "execution_count": 3,
   "id": "31d39235",
   "metadata": {},
   "outputs": [
    {
     "name": "stdout",
     "output_type": "stream",
     "text": [
      "[[ 1  2  3  4  5]\n",
      " [ 6  7  8  9 10]\n",
      " [11 12 13 14 15]] \n",
      "\n",
      "2 \n",
      "\n",
      "(3, 5) \n",
      "\n",
      "15 \n",
      "\n",
      "<class 'numpy.ndarray'>\n"
     ]
    }
   ],
   "source": [
    "print(A, '\\n')\n",
    "print(A.ndim, '\\n')\n",
    "print(A.shape, '\\n')\n",
    "print(A.size, '\\n')\n",
    "print(type(A))\n"
   ]
  },
  {
   "cell_type": "markdown",
   "id": "e56d2a96",
   "metadata": {},
   "source": [
    "### Do the following computations on the matrices B and C: \n",
    "* Elementwise subtraction. \n",
    "* Elementwise multiplication. \n",
    "* Matrix multiplication (by default you should use the @ operator)."
   ]
  },
  {
   "cell_type": "code",
   "execution_count": 6,
   "id": "a7053fbb",
   "metadata": {},
   "outputs": [
    {
     "name": "stdout",
     "output_type": "stream",
     "text": [
      "[[1 2 3]\n",
      " [4 5 6]\n",
      " [7 8 9]]\n",
      "\n",
      "[[2. 2. 2.]\n",
      " [2. 2. 2.]\n",
      " [2. 2. 2.]]\n"
     ]
    }
   ],
   "source": [
    "B = np.arange(1, 10).reshape(3, 3)\n",
    "C = np.ones((3, 3))*2\n",
    "\n",
    "print(B)\n",
    "print()\n",
    "print(C)"
   ]
  },
  {
   "cell_type": "code",
   "execution_count": 26,
   "id": "3cd794ae",
   "metadata": {},
   "outputs": [
    {
     "name": "stdout",
     "output_type": "stream",
     "text": [
      "[[-1.  0.  1.]\n",
      " [ 2.  3.  4.]\n",
      " [ 5.  6.  7.]] \n",
      "\n",
      "[[ 2.  4.  6.]\n",
      " [ 8. 10. 12.]\n",
      " [14. 16. 18.]] \n",
      "\n",
      "[[12. 12. 12.]\n",
      " [30. 30. 30.]\n",
      " [48. 48. 48.]]\n"
     ]
    }
   ],
   "source": [
    "print(B - C, '\\n')\n",
    "print(B * C, '\\n')\n",
    "print(B @ C)"
   ]
  },
  {
   "cell_type": "markdown",
   "id": "96030d53",
   "metadata": {},
   "source": [
    "### Do the following calculations on the matrix:\n",
    "* Exponentiate each number elementwise (use the np.exp function).\n",
    "\n",
    "* Calculate the minimum value in the whole matrix. \n",
    "* Calculcate the minimum value in each row. \n",
    "* Calculcate the minimum value in each column. \n",
    "\n",
    "\n",
    "* Find the index value for the minimum value in the whole matrix (hint: use np.argmin).\n",
    "* Find the index value for the minimum value in each row (hint: use np.argmin).\n",
    "\n",
    "\n",
    "* Calculate the sum for all elements.\n",
    "* Calculate the mean for each column. \n",
    "* Calculate the median for each column. "
   ]
  },
  {
   "cell_type": "code",
   "execution_count": 27,
   "id": "f8a9166b",
   "metadata": {},
   "outputs": [
    {
     "name": "stdout",
     "output_type": "stream",
     "text": [
      "[[1 2 3]\n",
      " [4 5 6]\n",
      " [7 8 9]]\n"
     ]
    }
   ],
   "source": [
    "B = np.arange(1, 10).reshape(3, 3)\n",
    "print(B)"
   ]
  },
  {
   "cell_type": "code",
   "execution_count": 45,
   "id": "f03f24f7",
   "metadata": {},
   "outputs": [
    {
     "name": "stdout",
     "output_type": "stream",
     "text": [
      "[[2.71828183e+00 7.38905610e+00 2.00855369e+01]\n",
      " [5.45981500e+01 1.48413159e+02 4.03428793e+02]\n",
      " [1.09663316e+03 2.98095799e+03 8.10308393e+03]] \n",
      "\n",
      "1 \n",
      "\n",
      "[1 4 7] \n",
      "\n",
      "[1 2 3] \n",
      "\n",
      "0 \n",
      "\n",
      "[0 0 0] \n",
      "\n",
      "45 \n",
      "\n",
      "[4. 5. 6.] \n",
      "\n",
      "[4. 5. 6.] \n",
      "\n"
     ]
    }
   ],
   "source": [
    "# Exponentiate each number elementwise\n",
    "B_exp = np.exp(B)\n",
    "print(B_exp, '\\n')\n",
    "\n",
    "# Calculate the minimum value in the whole matrix\n",
    "min_value_matrix = np.min(B)\n",
    "print(min_value_matrix, '\\n')\n",
    "\n",
    "# Calculate the minimum vlaue in each row\n",
    "min_value_rows = np.min(B, axis=1)\n",
    "print(min_value_rows, '\\n')\n",
    "\n",
    "# Calculate the minimum vlaue in each column\n",
    "min_value_columns = np.min(B, axis=0)\n",
    "print(min_value_columns, '\\n')\n",
    "\n",
    "# Find the index for the minimum value in the whole matrix\n",
    "min_index_matrix = np.argmin(B)\n",
    "print(min_index_matrix, '\\n')\n",
    "\n",
    "# Find the index for the minimum value in each row\n",
    "min_index_rows = np.argmin(B, axis=1)\n",
    "print(min_index_rows, '\\n')\n",
    "\n",
    "# Calulcate the sum of all elements in the matrix\n",
    "sum_all_elements = np.sum(B)\n",
    "print(sum_all_elements, '\\n')\n",
    "\n",
    "# Calulcate the mean of each column\n",
    "mean_each_column = np.mean(B, axis=0)\n",
    "print(mean_each_column, '\\n')\n",
    "\n",
    "# Calulcate the median for each column\n",
    "median_each_column = np.median(B, axis=0)\n",
    "print(median_each_column, '\\n')\n"
   ]
  },
  {
   "cell_type": "markdown",
   "id": "541eb7ba",
   "metadata": {},
   "source": [
    "### What does it mean when you provide fewer indices than axes when slicing? See example below."
   ]
  },
  {
   "cell_type": "code",
   "execution_count": 28,
   "id": "9c8abf56",
   "metadata": {},
   "outputs": [
    {
     "name": "stdout",
     "output_type": "stream",
     "text": [
      "[[ 1  2  3  4  5]\n",
      " [ 6  7  8  9 10]\n",
      " [11 12 13 14 15]]\n"
     ]
    }
   ],
   "source": [
    "print(A)"
   ]
  },
  {
   "cell_type": "code",
   "execution_count": 29,
   "id": "69415f7b",
   "metadata": {},
   "outputs": [
    {
     "data": {
      "text/plain": [
       "array([ 6,  7,  8,  9, 10])"
      ]
     },
     "execution_count": 29,
     "metadata": {},
     "output_type": "execute_result"
    }
   ],
   "source": [
    "A[1]"
   ]
  },
  {
   "cell_type": "markdown",
   "id": "6c53541b",
   "metadata": {},
   "source": [
    "**Answer:**"
   ]
  },
  {
   "cell_type": "markdown",
   "id": "83c62768",
   "metadata": {},
   "source": [
    "If you provide fewer indices than the number of dimensions (axes), NumPy will implicitly take all values along the remaining axes. \n",
    "In the above example only the first axis (axis=0) is specified and NumPy assumes : (i.e, take all elements) for that axis. Its called implicit slicing."
   ]
  },
  {
   "cell_type": "markdown",
   "id": "6652d0c9",
   "metadata": {},
   "source": [
    "### Iterating over multidimensional arrays is done with respect to the first axis, so in the example below we iterate trough the rows. If you would like to iterate through the array *elementwise*, how would you do that?"
   ]
  },
  {
   "cell_type": "code",
   "execution_count": 57,
   "id": "9459864f",
   "metadata": {},
   "outputs": [
    {
     "data": {
      "text/plain": [
       "array([[ 1,  2,  3,  4,  5],\n",
       "       [ 6,  7,  8,  9, 10],\n",
       "       [11, 12, 13, 14, 15]])"
      ]
     },
     "execution_count": 57,
     "metadata": {},
     "output_type": "execute_result"
    }
   ],
   "source": [
    "A"
   ]
  },
  {
   "cell_type": "code",
   "execution_count": 66,
   "id": "a671bb5a",
   "metadata": {},
   "outputs": [
    {
     "name": "stdout",
     "output_type": "stream",
     "text": [
      "[1 2 3 4 5]\n",
      "[ 6  7  8  9 10]\n",
      "[11 12 13 14 15]\n",
      "3\n"
     ]
    }
   ],
   "source": [
    "for i in A:\n",
    "    print(i)\n",
    "\n"
   ]
  },
  {
   "cell_type": "code",
   "execution_count": 63,
   "id": "f4e443a0",
   "metadata": {},
   "outputs": [
    {
     "name": "stdout",
     "output_type": "stream",
     "text": [
      "1\n",
      "2\n",
      "3\n",
      "4\n",
      "5\n",
      "6\n",
      "7\n",
      "8\n",
      "9\n",
      "10\n",
      "11\n",
      "12\n",
      "13\n",
      "14\n",
      "15\n"
     ]
    }
   ],
   "source": [
    "# Iterate element-wise using np.nditer (most efficent for higher N-D arrays)\n",
    "for element in np.nditer(A):\n",
    "    print(element)\n",
    "\n",
    "# Iterate element-wise using the flat iterator, flats the array as if its a 1D array.\n",
    "for element in A.flat:\n",
    "    print(element)\n",
    "\n",
    "# Iterate element-wise using nested loops, manual control but less time efficient.\n",
    "for i in range(A.shape[0]):\n",
    "    for j in range(A.shape[1]):\n",
    "        print(A[i, j])\n"
   ]
  },
  {
   "cell_type": "markdown",
   "id": "608a2583",
   "metadata": {},
   "source": [
    "### Explain what the code below does. More specifically, b has three axes - what does this mean? "
   ]
  },
  {
   "cell_type": "code",
   "execution_count": 69,
   "id": "f8f9b26f",
   "metadata": {},
   "outputs": [
    {
     "name": "stdout",
     "output_type": "stream",
     "text": [
      "[ 0  1  2  3  4  5  6  7  8  9 10 11 12 13 14 15 16 17 18 19 20 21 22 23\n",
      " 24 25 26 27 28 29]\n",
      "\n",
      "[[[ 0  1  2  3  4]\n",
      "  [ 5  6  7  8  9]\n",
      "  [10 11 12 13 14]]\n",
      "\n",
      " [[15 16 17 18 19]\n",
      "  [20 21 22 23 24]\n",
      "  [25 26 27 28 29]]]\n",
      "\n",
      "3\n"
     ]
    }
   ],
   "source": [
    "a = np.arange(30) # creates an array ranging from number 0 to 29. \n",
    "b = a.reshape((2, 3, -1)) # reshapes the array of a into three dimensions, [depth/slice = 3, rows = 3, columns = -1]. \n",
    "print(a)\n",
    "print()\n",
    "\n",
    "print(b)\n",
    "print()\n",
    "print(b.ndim) # This gives the number of axes (dimensions) of the array. In this case it return the value 3, i.e. its a 3D-array."
   ]
  },
  {
   "cell_type": "markdown",
   "id": "7e3c3b26",
   "metadata": {},
   "source": [
    "The above code first creates an 1D array containing a sequence of numbers from 0 to 29 (30 elements in total). \n",
    "It then reshapes the array into a 3D array using the reshape() function. The argument(2, 3, -1) specifices the shape:\n",
    "* 2 means the depth or number of layers/slices along the first axis.\n",
    "* 3 means that each layer is specified to have 3 rows\n",
    "* -1 infer the appropriate size for the column dimension based on the number of elements in array a divided by the size of the other dimensions\n",
    "\n",
    "In this case: **a** = 30 (elements), depth x rows = 2x3. NumPy then calculates that the third dimension ((30/2x3) = 5) must have 5 elements.\n",
    "This means that the reshaped array **b** will have the shape (2, 3, 5):\n",
    "* 2 layers(slices)\n",
    "* Each layer has 3 rows\n",
    "* Each row has 5 columns"
   ]
  },
  {
   "cell_type": "markdown",
   "id": "ab5933d5",
   "metadata": {},
   "source": [
    "### Broadcasting\n",
    "**Read the following link about broadcasting: https://numpy.org/doc/stable/user/basics.broadcasting.html#basics-broadcasting**"
   ]
  },
  {
   "cell_type": "markdown",
   "id": "039805ba",
   "metadata": {},
   "source": [
    "# Remark on Broadcasting when doing Linear Algebra calculations in Python. "
   ]
  },
  {
   "cell_type": "markdown",
   "id": "c4bcc147",
   "metadata": {},
   "source": [
    "### From the mathematical rules of matrix addition, the operation below (m1 + m2) does not make sense. The reason is that matrix addition requires two matrices of the same size. In Python however, it works due to broadcasting rules in NumPy. So you must be careful when doing Linear Algebra calculations in Python since they do not follow the \"mathematical rules\". This can however easily be handled by doing some simple programming, for example validating that two matrices have the same shape is easy if you for instance want to add two matrices. "
   ]
  },
  {
   "cell_type": "code",
   "execution_count": 70,
   "id": "1fd46778",
   "metadata": {},
   "outputs": [
    {
     "name": "stdout",
     "output_type": "stream",
     "text": [
      "[[2 3]\n",
      " [4 5]]\n"
     ]
    }
   ],
   "source": [
    "m1 = np.array([[1, 2], [3, 4]])\n",
    "m2 = np.array([1, 1])\n",
    "print(m1 + m2)"
   ]
  },
  {
   "cell_type": "markdown",
   "id": "047d6576",
   "metadata": {},
   "source": [
    "### The example below would also not be allowed if following the \"mathematical rules\" in Linear Algebra. But it works due to broadcasting in NumPy. "
   ]
  },
  {
   "cell_type": "code",
   "execution_count": 71,
   "id": "5e6ef2e4",
   "metadata": {},
   "outputs": [
    {
     "name": "stdout",
     "output_type": "stream",
     "text": [
      "[2 3 4]\n"
     ]
    }
   ],
   "source": [
    "v1 = np.array([1, 2, 3])\n",
    "print(v1 + 1)"
   ]
  },
  {
   "cell_type": "code",
   "execution_count": 73,
   "id": "e2cbae26",
   "metadata": {},
   "outputs": [
    {
     "name": "stdout",
     "output_type": "stream",
     "text": [
      "[[1 2]\n",
      " [3 4]]\n",
      "\n",
      "[2 2]\n"
     ]
    }
   ],
   "source": [
    "A = np.arange(1, 5).reshape(2,2)\n",
    "print(A)\n",
    "print()\n",
    "\n",
    "b = np.array([2, 2])\n",
    "print(b)"
   ]
  },
  {
   "cell_type": "markdown",
   "id": "722fd5cd",
   "metadata": {},
   "source": [
    "# Vector- and matrix algebra Exercises"
   ]
  },
  {
   "cell_type": "markdown",
   "id": "b63a3081-d976-4d9f-bfd0-a63917e79f7d",
   "metadata": {},
   "source": [
    "**Now you are going to create a function that can be reused every time you add or multiply matrices. The function is created so that we do the addition and multiplication according to the rules of vector- and matrix algebra.**\n",
    "\n",
    "**Create a function \"add_mult_matrices\" that takes two matrices as input arguments (validate that the input are of the type numpy.ndarray by using the isinstance function), a third argument that is either 'add' or 'multiply' that specifies if you want to add or multiply the matrices (validate that the third argument is either 'add' or 'multiply'). When doing matrix addition, validate that the matrices have the same size. When doing matrix multiplication, validate that the sizes conform (i.e. number of columns in the first matrix is equal to the number of rows in the second matrix).**"
   ]
  },
  {
   "cell_type": "code",
   "execution_count": 3,
   "id": "3506f977-ac0a-473f-85bc-eec9f35dc498",
   "metadata": {},
   "outputs": [],
   "source": [
    "from typing import Union\n",
    "\n",
    "def add_mult_matrices(matrix_a: np.ndarray, matrix_b: np.ndarray, operation: str) -> Union[np.ndarray, None]:\n",
    "    # Validate that both inputs are numpy.ndarrays\n",
    "    if not isinstance(matrix_a, np.ndarray):\n",
    "        raise ValueError('The input must be a numpy.ndarray')\n",
    "    if not isinstance(matrix_b, np.ndarray):\n",
    "        raise ValueError('The input must be a numpy.ndarray')\n",
    "    \n",
    "    # Check the operation type\n",
    "    if operation == 'add':\n",
    "        # Validate that the matrices have the same dimensions/shape\n",
    "        if matrix_a.shape != matrix_b.shape:\n",
    "            raise ValueError('Matrices must have the same dimensions for addition')\n",
    "        return matrix_a + matrix_b\n",
    "    elif operation == 'multiply':\n",
    "        # Validates that the size conforms for matrix multiplication\n",
    "        if matrix_a.shape[1] != matrix_b.shape[0]:\n",
    "            raise ValueError('Number of columns in the first matrix must equal the number of rows in the second matrix')\n",
    "        return matrix_a @ matrix_b \n",
    "    else:\n",
    "        raise ValueError(\"Operation must be either 'add' or 'multiply\")\n"
   ]
  },
  {
   "cell_type": "markdown",
   "id": "8dad82d0-2359-4dff-8f5b-a57d3e34103c",
   "metadata": {},
   "source": [
    "### Solve all the exercises in chapter 10.1 in the book \"Matematik för yrkeshögskolan\". "
   ]
  },
  {
   "cell_type": "code",
   "execution_count": 7,
   "id": "89df88af-3668-4d98-a0a4-e6d92eea0f89",
   "metadata": {},
   "outputs": [
    {
     "name": "stdout",
     "output_type": "stream",
     "text": [
      "[20 15]\n",
      "[12  9]\n",
      "[32 24]\n",
      "[12  9]\n",
      "[[4]\n",
      " [3]]\n",
      "\n",
      "[[16 12]\n",
      " [12  9]]\n",
      "5.0\n"
     ]
    }
   ],
   "source": [
    "# (a)\n",
    "x = np.array([4, 3]) #shape is (2,)\n",
    "\n",
    "# (b)\n",
    "solution_b = 5 * x\n",
    "print(solution_b)\n",
    "\n",
    "# (c)\n",
    "solution_c = 3 * x\n",
    "print(solution_c)\n",
    "\n",
    "# (d)\n",
    "solution_d = 5 * x + 3 * x\n",
    "print(solution_d)\n",
    "\n",
    "# (f)\n",
    "solution_f = 4 * x - x\n",
    "print(solution_f)\n",
    "\n",
    "# (g)\n",
    "solution_g = np.atleast_2d(x).T # To convert a 1D array into a 2D column vector, an addiitional dimension must be added (1, 2). \n",
    "print(solution_g)\n",
    "print()\n",
    "\n",
    "# (h)\n",
    "solution_h = x * np.atleast_2d(x).T # This is an example when NumPy uses broadcasting to perfom element-wise operations on arrays of different shapes.\n",
    "print(solution_h)\n",
    "\n",
    "# (i)\n",
    "x_norm = np.linalg.norm(x)\n",
    "print(x_norm)\n",
    "\n",
    "# (k)"
   ]
  },
  {
   "cell_type": "markdown",
   "id": "75c98984-1f88-4df1-b850-d2466de444a5",
   "metadata": {},
   "source": [
    "### Solve all the exercises, except 10.2.4, in chapter 10.2 in the book \"Matematik för yrkeshögskolan\". "
   ]
  },
  {
   "cell_type": "code",
   "execution_count": 5,
   "id": "65371610-16e1-48b2-b7fb-65e49002608a",
   "metadata": {},
   "outputs": [
    {
     "name": "stdout",
     "output_type": "stream",
     "text": [
      "2A =  \n",
      " [[ 4  2 -2]\n",
      " [ 2 -2  2]] \n",
      "\n",
      "B - 2A =  \n",
      " [[ 0 -4  3]\n",
      " [ 0 -2 -4]] \n",
      "\n",
      "3C - 2E =  \n",
      " [[ 1  4]\n",
      " [ 2 -1]] \n",
      "\n",
      "2D - 3C =  \n",
      " [[3 2]\n",
      " [2 3]] \n",
      "\n",
      "Transposed D + 2D =  \n",
      " [[ 9 12]\n",
      " [12  9]] \n",
      "\n",
      "2C.transposed - 2D.transposed =  \n",
      " [[-4 -4]\n",
      " [-4 -4]] \n",
      "\n",
      "CD =  \n",
      " [[11 10]\n",
      " [10 11]] \n",
      "\n",
      "CB =  \n",
      " [[  8 -10  -3]\n",
      " [ 10  -8   0]] \n",
      "\n",
      "CI =  \n",
      " [[1 2]\n",
      " [2 1]] \n",
      "\n",
      "AB.T =  \n",
      " [[5 2]\n",
      " [7 4]] \n",
      "\n"
     ]
    }
   ],
   "source": [
    "# Exercises 10.2.1\n",
    "A = np.array([[2, 1, -1], [1, -1, 1]])\n",
    "B = np.array([[4, -2, 1], [2, -4, -2]])\n",
    "C = np.array([[1, 2], [2, 1]])\n",
    "D = np.array([[3, 4],[4, 3]])\n",
    "E = np.array([[1], [2]])\n",
    "I = np.array([[1, 0], [0, 1]])\n",
    "\n",
    "# (a)\n",
    "solution_a = 2 * A\n",
    "print('2A = ','\\n', solution_a, '\\n')\n",
    "\n",
    "# (b)\n",
    "solution_b = B - 2 * A\n",
    "print('B - 2A = ', '\\n', solution_b, '\\n')\n",
    "\n",
    "# (c)\n",
    "solution_c = 3 * C - 2 * E\n",
    "print('3C - 2E = ', '\\n', solution_c, '\\n')\n",
    "\n",
    "# (d)\n",
    "solution_d = 2 * D - 3 * C\n",
    "print('2D - 3C = ', '\\n', solution_d, '\\n')\n",
    "\n",
    "# (e)\n",
    "\n",
    "solution_e = add_mult_matrices(D.T, 2 * D, 'add')\n",
    "print('Transposed D + 2D = ', '\\n', solution_e, '\\n')\n",
    "\n",
    "# (f)\n",
    "solution_f = 2 * C.T - 2 * D.T\n",
    "print('2C.transposed - 2D.transposed = ', '\\n', solution_f, '\\n')\n",
    "\n",
    "# (g)\n",
    "#solution_g = A.T - B # Not definied, operands could not broadcast together,\n",
    "#print('A.transposed - B = ', '\\n', solution_g, '\\n')\n",
    "\n",
    "# (h)\n",
    "#solution_h = add_mult_matrices(A, C, 'multiply') # Raises ValueError because the matrices are undefinied\n",
    "\n",
    "# (i)\n",
    "solution_i = add_mult_matrices(C, D, 'multiply')\n",
    "print('CD = ', '\\n', solution_i, '\\n')\n",
    "\n",
    "# (j)\n",
    "solution_j = add_mult_matrices(C, B, 'multiply')\n",
    "print('CB = ', '\\n', solution_j, '\\n')\n",
    "\n",
    "# (k)\n",
    "solution_k = add_mult_matrices(C, I, 'multiply')\n",
    "print('CI = ','\\n', solution_k, '\\n')\n",
    "\n",
    "# (l)\n",
    "solution_l = add_mult_matrices(A, B.T, 'multiply')\n",
    "print('AB.T = ', '\\n', solution_l, '\\n')\n"
   ]
  },
  {
   "cell_type": "code",
   "execution_count": 8,
   "id": "7b592dd0",
   "metadata": {},
   "outputs": [
    {
     "name": "stdout",
     "output_type": "stream",
     "text": [
      "AA.T =  \n",
      " [[29 26]\n",
      " [26 42]]\n"
     ]
    }
   ],
   "source": [
    "# Exercise 10.2.2\n",
    "A = np.array([[2, 3, 4], [5, 4, 1]])\n",
    "\n",
    "# Calculate AA.transposed\n",
    "solution = add_mult_matrices(A, A.T, 'multiply')\n",
    "print('AA.T = ', '\\n', solution)"
   ]
  },
  {
   "cell_type": "code",
   "execution_count": 15,
   "id": "8401e7a9",
   "metadata": {},
   "outputs": [
    {
     "name": "stdout",
     "output_type": "stream",
     "text": [
      "AB = AC  \n",
      " [[ 4  7]\n",
      " [ 8 14]] \n",
      "\n",
      "B is not equal to C\n"
     ]
    }
   ],
   "source": [
    "# Exerscise 10.2.3\n",
    "A = np.array([[1, 2], [2, 4]])\n",
    "B = np.array([[2, 1], [1, 3]])\n",
    "C = np.array([[4, 3], [0, 2]])\n",
    "\n",
    "# Verify that AB = AC and that B != C\n",
    "AB = add_mult_matrices(A, B, 'multiply')\n",
    "AC = add_mult_matrices(A, C, 'multiply')\n",
    "\n",
    "# Checks if all elements of two arrays are equal.\n",
    "if np.all(AB == AC):\n",
    "    print('AB = AC ', '\\n', AB,'\\n')\n",
    "else:\n",
    "    print('The arrays are not equal ')\n",
    "    \n",
    "# Checks if B is equal to C\n",
    "if np.all(B == C):\n",
    "    print('B equals C')\n",
    "else:\n",
    "    print('B is not equal to C')"
   ]
  },
  {
   "cell_type": "markdown",
   "id": "6a4a524f",
   "metadata": {},
   "source": [
    "### Copies and Views\n",
    "Read the following link: https://numpy.org/doc/stable/user/basics.copies.html"
   ]
  },
  {
   "cell_type": "markdown",
   "id": "6cbbeaf7",
   "metadata": {},
   "source": [
    "**Basic indexing creates a view, How can you check if v1 and v2 is a view or copy? If you change the last element in v2 to 123, will the last element in v1 be changed? Why?**"
   ]
  },
  {
   "cell_type": "code",
   "execution_count": 35,
   "id": "5b9ef4df",
   "metadata": {},
   "outputs": [
    {
     "name": "stdout",
     "output_type": "stream",
     "text": [
      "[0 1 2 3]\n",
      "[2 3]\n"
     ]
    },
    {
     "ename": "",
     "evalue": "",
     "output_type": "error",
     "traceback": [
      "\u001b[1;31mThe Kernel crashed while executing code in the current cell or a previous cell. \n",
      "\u001b[1;31mPlease review the code in the cell(s) to identify a possible cause of the failure. \n",
      "\u001b[1;31mClick <a href='https://aka.ms/vscodeJupyterKernelCrash'>here</a> for more info. \n",
      "\u001b[1;31mView Jupyter <a href='command:jupyter.viewOutput'>log</a> for further details."
     ]
    }
   ],
   "source": [
    "v1 = np.arange(4)\n",
    "v2 = v1[-2:]\n",
    "print(v1)\n",
    "print(v2)"
   ]
  },
  {
   "cell_type": "code",
   "execution_count": null,
   "id": "d2440489",
   "metadata": {},
   "outputs": [],
   "source": [
    "# The base attribute of a view returns the original array while it returns None for a copy.\n",
    "print(v1.base)\n",
    "print(v2.base)"
   ]
  },
  {
   "cell_type": "code",
   "execution_count": null,
   "id": "c8752807",
   "metadata": {},
   "outputs": [],
   "source": [
    "# The last element in v1 will be changed aswell since v2 is a view, meaning they share the same data buffer.\n",
    "v2[-1] = 123\n",
    "print(v1)\n",
    "print(v2)"
   ]
  }
 ],
 "metadata": {
  "kernelspec": {
   "display_name": "datascience",
   "language": "python",
   "name": "python3"
  },
  "language_info": {
   "codemirror_mode": {
    "name": "ipython",
    "version": 3
   },
   "file_extension": ".py",
   "mimetype": "text/x-python",
   "name": "python",
   "nbconvert_exporter": "python",
   "pygments_lexer": "ipython3",
   "version": "3.12.7"
  }
 },
 "nbformat": 4,
 "nbformat_minor": 5
}
